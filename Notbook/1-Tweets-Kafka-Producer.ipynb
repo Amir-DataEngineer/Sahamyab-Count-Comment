{
 "cells": [
  {
   "cell_type": "code",
   "execution_count": null,
   "id": "ebcda489",
   "metadata": {},
   "outputs": [],
   "source": [
    "import time\n",
    "import requests\n",
    "import re\n",
    "from pprint import pformat\n",
    "from json import dumps\n",
    "from kafka import KafkaProducer"
   ]
  },
  {
   "cell_type": "code",
   "execution_count": null,
   "id": "87f07244",
   "metadata": {},
   "outputs": [],
   "source": [
    "def filterData(item) :\n",
    "    cleansed_data = {\n",
    "        \"id\" : item['id'],\n",
    "        \"content\" : item['content'],\n",
    "        \"sendTime\" : item['sendTime'],\n",
    "        \"sendTimePersian\" : item['sendTimePersian'],\n",
    "        \"senderName\" : item['senderName'],\n",
    "        \"senderUsername\" : item['senderUsername'],\n",
    "        \"type\" : item['type'],\n",
    "        \"raw-data\" : item\n",
    "    } \n",
    "    return cleansed_data"
   ]
  },
  {
   "cell_type": "code",
   "execution_count": null,
   "id": "71521fc2",
   "metadata": {},
   "outputs": [],
   "source": [
    "producer = KafkaProducer(bootstrap_servers=['kafka-broker:29092'], value_serializer=lambda x: dumps(x).encode('utf-8'),\n",
    "                        key_serializer=str.encode )"
   ]
  },
  {
   "cell_type": "code",
   "execution_count": null,
   "id": "a672ee45",
   "metadata": {},
   "outputs": [],
   "source": [
    "TOPIC_NAME=\"Sahamyab-Session_16\""
   ]
  },
  {
   "cell_type": "code",
   "execution_count": null,
   "id": "f33f84a4",
   "metadata": {},
   "outputs": [],
   "source": [
    "url = \"https://www.sahamyab.com/guest/twiter/list?v=0.1\"\n",
    "delay = 10\n",
    "\n",
    "cnt=0\n",
    "while True:\n",
    "    try : \n",
    "        response = requests.request('GET', url, headers={'User-Agent': 'Chrome/116'})\n",
    "        if response.status_code == requests.codes.ok:\n",
    "            items = response.json()['items']\n",
    "            for item in items:\n",
    "                cnt+=1\n",
    "                print(\"-=-\"*20)\n",
    "                print(f\"#{cnt:4} - {item['id']}\")\n",
    "\n",
    "                if not item.get('content') :\n",
    "                    print(\"tweet is unacceptable\")\n",
    "                    continue\n",
    "                else : \n",
    "                    data=filterData(item)\n",
    "                    producer.send(TOPIC_NAME, value=data, key= item['id'])\n",
    "        else:\n",
    "            print(\"Error in fetch data: {err}\".format(err=response.status_code))\n",
    "        time.sleep(delay)\n",
    "    except :\n",
    "        continue"
   ]
  },
  {
   "cell_type": "code",
   "execution_count": null,
   "id": "c552a4ab",
   "metadata": {},
   "outputs": [],
   "source": []
  }
 ],
 "metadata": {
  "kernelspec": {
   "display_name": "Python 3 (ipykernel)",
   "language": "python",
   "name": "python3"
  },
  "language_info": {
   "codemirror_mode": {
    "name": "ipython",
    "version": 3
   },
   "file_extension": ".py",
   "mimetype": "text/x-python",
   "name": "python",
   "nbconvert_exporter": "python",
   "pygments_lexer": "ipython3",
   "version": "3.7.3"
  }
 },
 "nbformat": 4,
 "nbformat_minor": 5
}
